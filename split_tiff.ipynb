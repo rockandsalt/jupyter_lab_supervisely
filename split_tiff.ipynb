{
 "cells": [
  {
   "cell_type": "code",
   "execution_count": 1,
   "metadata": {},
   "outputs": [],
   "source": [
    "import numpy as np\n",
    "from skimage import io\n",
    "from skimage import exposure\n",
    "from skimage import color\n",
    "\n",
    "import supervisely_lib as sly\n",
    "\n",
    "import os\n",
    "\n",
    "from skimage.transform import rescale"
   ]
  },
  {
   "cell_type": "code",
   "execution_count": 2,
   "metadata": {},
   "outputs": [],
   "source": [
    "# Change this field to the name of your team, where target workspace exists.\n",
    "team_name = \"marcwang17\" # Automatically inserted\n",
    "\n",
    "# Change this field to the of your workspace, where target project exists.\n",
    "workspace_name = \"First Workspace\" # Automatically inserted\n",
    "\n",
    "# If you are running this notebook on a Supervisely web instance, the connection\n",
    "# Edit those values if you run this notebook on your own PC\n",
    "# details below will be filled in from environment variables automatically.\n",
    "#\n",
    "# If you are running this notebook locally on your own machine, edit to fill in the\n",
    "# connection details manually. You can find your access token at\n",
    "# \"Your name on the top right\" -> \"Account settings\" -> \"API token\".\n",
    "address = os.environ['SERVER_ADDRESS']\n",
    "token = os.environ['API_TOKEN']"
   ]
  },
  {
   "cell_type": "code",
   "execution_count": 3,
   "metadata": {},
   "outputs": [],
   "source": [
    "# Initialize API object\n",
    "api = sly.Api(address, token)"
   ]
  },
  {
   "cell_type": "code",
   "execution_count": 4,
   "metadata": {},
   "outputs": [],
   "source": [
    "project_name = 'split_dt_ups'"
   ]
  },
  {
   "cell_type": "code",
   "execution_count": 5,
   "metadata": {},
   "outputs": [],
   "source": [
    "# Get IDs of team and workspace\n",
    "team = api.team.get_info_by_name(team_name)\n",
    "workspace = api.workspace.get_info_by_name(team.id, workspace_name)"
   ]
  },
  {
   "cell_type": "code",
   "execution_count": 6,
   "metadata": {},
   "outputs": [],
   "source": [
    "\n",
    "project = api.project.get_info_by_name(workspace.id, project_name)\n",
    "if project is None:\n",
    "    project = api.project.create(workspace.id, project_name, change_name_if_conflict=True)\n",
    "\n"
   ]
  },
  {
   "cell_type": "code",
   "execution_count": 7,
   "metadata": {},
   "outputs": [],
   "source": [
    "images_dir = './data'"
   ]
  },
  {
   "cell_type": "code",
   "execution_count": 8,
   "metadata": {},
   "outputs": [],
   "source": [
    "img_paths = sly.fs.list_files(images_dir)"
   ]
  },
  {
   "cell_type": "code",
   "execution_count": 9,
   "metadata": {},
   "outputs": [
    {
     "name": "stderr",
     "output_type": "stream",
     "text": [
      "/usr/local/lib/python3.6/site-packages/skimage/transform/_warps.py:84: UserWarning: The default mode, 'constant', will be changed to 'reflect' in skimage 0.15.\n",
      "  warn(\"The default mode, 'constant', will be changed to 'reflect' in \"\n"
     ]
    }
   ],
   "source": [
    "\n",
    "for img_path in img_paths:\n",
    "    full_im = io.imread(img_path)\n",
    "    file_name = sly.fs.get_file_name(img_path)\n",
    "    dataset = api.dataset.create(project.id, file_name, change_name_if_conflict=True)\n",
    "    \n",
    "    ls_name = []\n",
    "    ls_im = []\n",
    "    \n",
    "    for i in range(full_im.shape[0]):\n",
    "        sub_im = full_im[i,...]\n",
    "        upscaled = rescale(sub_im, scale = 4)\n",
    "        rescaled_im = exposure.rescale_intensity(upscaled, in_range='image', out_range=np.uint8)\n",
    "        rgb_im = color.gray2rgb(rescaled_im)\n",
    "        \n",
    "        ls_name.append('{}_{}.png'.format(file_name, i))\n",
    "        ls_im.append(rgb_im)\n",
    "        \n",
    "    api.image.upload_nps(dataset.id, ls_name, ls_im)"
   ]
  },
  {
   "cell_type": "code",
   "execution_count": null,
   "metadata": {},
   "outputs": [],
   "source": []
  }
 ],
 "metadata": {
  "kernelspec": {
   "display_name": "Python 3",
   "language": "python",
   "name": "python3"
  },
  "language_info": {
   "codemirror_mode": {
    "name": "ipython",
    "version": 3
   },
   "file_extension": ".py",
   "mimetype": "text/x-python",
   "name": "python",
   "nbconvert_exporter": "python",
   "pygments_lexer": "ipython3",
   "version": "3.6.5"
  }
 },
 "nbformat": 4,
 "nbformat_minor": 4
}
