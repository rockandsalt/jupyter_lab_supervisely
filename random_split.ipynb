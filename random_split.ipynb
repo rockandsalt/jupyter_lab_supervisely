{
 "cells": [
  {
   "cell_type": "code",
   "execution_count": 1,
   "metadata": {},
   "outputs": [],
   "source": [
    "import numpy as np\n",
    "from skimage import io\n",
    "from skimage import exposure\n",
    "from skimage import color\n",
    "\n",
    "import supervisely_lib as sly\n",
    "\n",
    "import os\n",
    "\n",
    "from skimage.transform import rescale"
   ]
  },
  {
   "cell_type": "code",
   "execution_count": 2,
   "metadata": {},
   "outputs": [],
   "source": [
    "# Change this field to the name of your team, where target workspace exists.\n",
    "team_name = \"marcwang17\" # Automatically inserted\n",
    "\n",
    "# Change this field to the of your workspace, where target project exists.\n",
    "workspace_name = \"First Workspace\" # Automatically inserted\n",
    "\n",
    "# If you are running this notebook on a Supervisely web instance, the connection\n",
    "# Edit those values if you run this notebook on your own PC\n",
    "# details below will be filled in from environment variables automatically.\n",
    "#\n",
    "# If you are running this notebook locally on your own machine, edit to fill in the\n",
    "# connection details manually. You can find your access token at\n",
    "# \"Your name on the top right\" -> \"Account settings\" -> \"API token\".\n",
    "address = os.environ['SERVER_ADDRESS']\n",
    "token = os.environ['API_TOKEN']"
   ]
  },
  {
   "cell_type": "code",
   "execution_count": 3,
   "metadata": {},
   "outputs": [],
   "source": [
    "# Initialize API object\n",
    "api = sly.Api(address, token)"
   ]
  },
  {
   "cell_type": "code",
   "execution_count": 4,
   "metadata": {},
   "outputs": [],
   "source": [
    "project_name = 'random_sampled'"
   ]
  },
  {
   "cell_type": "code",
   "execution_count": 5,
   "metadata": {},
   "outputs": [],
   "source": [
    "# Get IDs of team and workspace\n",
    "team = api.team.get_info_by_name(team_name)\n",
    "workspace = api.workspace.get_info_by_name(team.id, workspace_name)"
   ]
  },
  {
   "cell_type": "code",
   "execution_count": 6,
   "metadata": {},
   "outputs": [],
   "source": [
    "\n",
    "project = api.project.get_info_by_name(workspace.id, project_name)\n",
    "if project is None:\n",
    "    project = api.project.create(workspace.id, project_name, change_name_if_conflict=True)\n",
    "\n"
   ]
  },
  {
   "cell_type": "code",
   "execution_count": 7,
   "metadata": {},
   "outputs": [],
   "source": [
    "images_dir = './data/bimodal_batch'"
   ]
  },
  {
   "cell_type": "code",
   "execution_count": 8,
   "metadata": {},
   "outputs": [],
   "source": [
    "img_paths = sly.fs.list_files(images_dir)"
   ]
  },
  {
   "cell_type": "code",
   "execution_count": 9,
   "metadata": {},
   "outputs": [
    {
     "data": {
      "text/plain": [
       "['./data/bimodal_batch/2020-01-12 Marc 5um_5um.tiff',\n",
       " './data/bimodal_batch/2020-01-21 Marc SS Samples 5um_5um scan 1.tiff',\n",
       " './data/bimodal_batch/2020-01-21 Marc SS Samples 5um_5um scan 2_recon.tiff',\n",
       " './data/bimodal_batch/2020-01-21 Marc SS Samples 5um_5um scan 3_recon.tiff',\n",
       " './data/bimodal_batch/2020-01-21 Marc SS Samples 5um_5um scan 4.tiff']"
      ]
     },
     "execution_count": 9,
     "metadata": {},
     "output_type": "execute_result"
    }
   ],
   "source": [
    "img_paths"
   ]
  },
  {
   "cell_type": "code",
   "execution_count": 10,
   "metadata": {},
   "outputs": [],
   "source": [
    "im_size = 100\n",
    "img_sample = 3"
   ]
  },
  {
   "cell_type": "code",
   "execution_count": 11,
   "metadata": {},
   "outputs": [],
   "source": [
    "def axis_slice(im, i, j, k, size, axis):\n",
    "    if axis == 0:\n",
    "        return im[i,j:j+size, k:k+size]\n",
    "    elif axis == 1:\n",
    "        return im[i:i+size, j, k:k+size]\n",
    "    elif axis == 2:\n",
    "        return im[i:i+size, j:j+size, k]\n",
    "    else:\n",
    "        return None\n"
   ]
  },
  {
   "cell_type": "code",
   "execution_count": 12,
   "metadata": {},
   "outputs": [],
   "source": [
    "np.random.seed(0)\n",
    "\n",
    "for i, img_path in enumerate(img_paths):\n",
    "    full_im = io.imread(img_path)\n",
    "    \n",
    "    full_im = exposure.rescale_intensity(full_im, in_range=np.uint16, out_range=np.uint8)\n",
    "    \n",
    "    file_name = sly.fs.get_file_name(img_path)\n",
    "    dataset = api.dataset.create(project.id, file_name, change_name_if_conflict=True)\n",
    "    ls_name = []\n",
    "    ls_im = []\n",
    "    \n",
    "    shape = full_im.shape\n",
    "    for j in range(img_sample):\n",
    "        axis = np.random.randint(0,3)\n",
    "        \n",
    "        if(axis == 0):\n",
    "            z_max = int(shape[0])\n",
    "            x_max = int(shape[1]-im_size)\n",
    "            y_max = int(shape[2]-im_size)\n",
    "        elif(axis == 1):\n",
    "            z_max = int(shape[0]-im_size)\n",
    "            x_max = int(shape[1])\n",
    "            y_max = int(shape[2]-im_size)\n",
    "        elif(axis == 2):\n",
    "            z_max = int(shape[0]-im_size)\n",
    "            x_max = int(shape[1]-im_size)\n",
    "            y_max = int(shape[2])\n",
    "        \n",
    "        z_init = np.random.randint(im_size, z_max)\n",
    "        x_init = np.random.randint(im_size, x_max)\n",
    "        y_init = np.random.randint(im_size, y_max)\n",
    "    \n",
    "        sampled_im = axis_slice(full_im, z_init, x_init, y_init, im_size, axis)\n",
    "        \n",
    "        upsampled = rescale(sampled_im, scale = 6, preserve_range = True)\n",
    "        \n",
    "        rgb_im = color.gray2rgb(upsampled)\n",
    "        ls_name.append('{}_{}.png'.format(file_name, j))\n",
    "        ls_im.append(rgb_im)\n",
    "        \n",
    "    api.image.upload_nps(dataset.id, ls_name, ls_im)\n",
    "        "
   ]
  },
  {
   "cell_type": "code",
   "execution_count": null,
   "metadata": {},
   "outputs": [],
   "source": []
  }
 ],
 "metadata": {
  "kernelspec": {
   "display_name": "Python 3",
   "language": "python",
   "name": "python3"
  },
  "language_info": {
   "codemirror_mode": {
    "name": "ipython",
    "version": 3
   },
   "file_extension": ".py",
   "mimetype": "text/x-python",
   "name": "python",
   "nbconvert_exporter": "python",
   "pygments_lexer": "ipython3",
   "version": "3.6.5"
  }
 },
 "nbformat": 4,
 "nbformat_minor": 4
}
