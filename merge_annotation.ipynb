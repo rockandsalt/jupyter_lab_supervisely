{
 "cells": [
  {
   "cell_type": "code",
   "execution_count": 1,
   "metadata": {},
   "outputs": [],
   "source": [
    "%matplotlib inline\n",
    "\n",
    "from matplotlib import pyplot as plt\n",
    "\n",
    "from skimage import io\n",
    "from skimage import exposure\n",
    "\n",
    "import numpy as np\n",
    "\n",
    "from os import path\n"
   ]
  },
  {
   "cell_type": "code",
   "execution_count": 2,
   "metadata": {},
   "outputs": [],
   "source": [
    "file_list = [\"2020-03-04 Marc PM2 C4_5um scan_recon.tiff\",\n",
    "             \"2020-03-04 Marc PM3 C4_5um scan_recon.tiff\",\n",
    "             \"2020-03-04 Marc PM4 C4_5um scan_recon.tiff\",\n",
    "             \"2020-03-11 Marc PM5 C1_5um scanA_recon.tiff\",\n",
    "             \"2020-03-11 Marc PM4 C1_5um scan_recon.tiff\"]\n",
    "\n",
    "folder_path = path.join('.','data','process_map')"
   ]
  },
  {
   "cell_type": "code",
   "execution_count": 3,
   "metadata": {},
   "outputs": [],
   "source": [
    "sampled_index = [[432,335,683],\n",
    "                 [511,535,506],\n",
    "                 [345,661,488],\n",
    "                 [325,679,596],\n",
    "                 [453,420,496]]\n",
    "\n",
    "im_size = 150"
   ]
  },
  {
   "cell_type": "code",
   "execution_count": 4,
   "metadata": {},
   "outputs": [],
   "source": [
    "sampled_list = []\n",
    "\n",
    "for filename, index in zip(file_list, sampled_index):\n",
    "    im = io.imread(path.join(folder_path, filename))\n",
    "    \n",
    "    sampled_im = im[index[2]:index[2] + im_size, \n",
    "                    index[0]:index[0] + im_size, \n",
    "                    index[1]]\n",
    "    \n",
    "    sampled_list.append(sampled_im)"
   ]
  },
  {
   "cell_type": "code",
   "execution_count": null,
   "metadata": {},
   "outputs": [],
   "source": [
    "#smoothed_upscaled = pyramid_expand(sampled_im ,upscale=4, sigma = 6 * 4 / 6.0 ,order =3)"
   ]
  }
 ],
 "metadata": {
  "kernelspec": {
   "display_name": "Python 3",
   "language": "python",
   "name": "python3"
  },
  "language_info": {
   "codemirror_mode": {
    "name": "ipython",
    "version": 3
   },
   "file_extension": ".py",
   "mimetype": "text/x-python",
   "name": "python",
   "nbconvert_exporter": "python",
   "pygments_lexer": "ipython3",
   "version": "3.6.5"
  }
 },
 "nbformat": 4,
 "nbformat_minor": 4
}
