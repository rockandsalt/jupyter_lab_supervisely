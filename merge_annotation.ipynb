{
 "cells": [
  {
   "cell_type": "code",
   "execution_count": 1,
   "metadata": {},
   "outputs": [],
   "source": [
    "%matplotlib inline\n",
    "\n",
    "from matplotlib import pyplot as plt\n",
    "\n",
    "from skimage import io\n",
    "from skimage import exposure\n",
    "from skimage import transform\n",
    "from skimage import color\n",
    "\n",
    "import numpy as np\n",
    "\n",
    "import os\n",
    "from os import path\n",
    "\n",
    "import supervisely_lib as sly\n",
    "from supervisely_lib.annotation.annotation import Annotation\n",
    "from supervisely_lib.annotation.obj_class import ObjClass\n",
    "from supervisely_lib.geometry.bitmap import Bitmap\n",
    "from supervisely_lib.project.project_meta import ProjectMeta"
   ]
  },
  {
   "cell_type": "code",
   "execution_count": 2,
   "metadata": {},
   "outputs": [],
   "source": [
    "# Change this field to the name of your team, where target workspace exists.\n",
    "team_name = \"marcwang17\" # Automatically inserted\n",
    "\n",
    "# Change this field to the of your workspace, where target project exists.\n",
    "workspace_name = \"First Workspace\" # Automatically inserted\n",
    "\n",
    "# If you are running this notebook on a Supervisely web instance, the connection\n",
    "# Edit those values if you run this notebook on your own PC\n",
    "# details below will be filled in from environment variables automatically.\n",
    "#\n",
    "# If you are running this notebook locally on your own machine, edit to fill in the\n",
    "# connection details manually. You can find your access token at\n",
    "# \"Your name on the top right\" -> \"Account settings\" -> \"API token\".\n",
    "address = os.environ['SERVER_ADDRESS']\n",
    "token = os.environ['API_TOKEN']"
   ]
  },
  {
   "cell_type": "code",
   "execution_count": 3,
   "metadata": {},
   "outputs": [],
   "source": [
    "# Initialize API object\n",
    "api = sly.Api(address, token)"
   ]
  },
  {
   "cell_type": "code",
   "execution_count": 4,
   "metadata": {},
   "outputs": [],
   "source": [
    "# Get IDs of team and workspace\n",
    "team = api.team.get_info_by_name(team_name)\n",
    "workspace = api.workspace.get_info_by_name(team.id, workspace_name)"
   ]
  },
  {
   "cell_type": "code",
   "execution_count": 5,
   "metadata": {},
   "outputs": [],
   "source": [
    "src_proj_name = 'bimodal_powder_2'\n",
    "\n",
    "src_project = api.project.get_info_by_name(workspace.id, src_proj_name)\n",
    "if src_project is None:\n",
    "    raise RuntimeError(\"project {!r} not found\".format(src_proj_name))"
   ]
  },
  {
   "cell_type": "code",
   "execution_count": 6,
   "metadata": {},
   "outputs": [
    {
     "name": "stdout",
     "output_type": "stream",
     "text": [
      "ProjectMeta:\n",
      "Object Classes\n",
      "+-------------+--------+----------------+\n",
      "|     Name    | Shape  |     Color      |\n",
      "+-------------+--------+----------------+\n",
      "|   particle  | Bitmap | [177, 36, 25]  |\n",
      "| particle_wh | Bitmap | [74, 144, 226] |\n",
      "+-------------+--------+----------------+\n",
      "Tags\n",
      "+------+------------+-----------------+\n",
      "| Name | Value type | Possible values |\n",
      "+------+------------+-----------------+\n",
      "+------+------------+-----------------+\n",
      "\n"
     ]
    }
   ],
   "source": [
    "meta_json = api.project.get_meta(src_project.id)\n",
    "meta = sly.ProjectMeta.from_json(meta_json)\n",
    "print(meta)"
   ]
  },
  {
   "cell_type": "code",
   "execution_count": 7,
   "metadata": {},
   "outputs": [],
   "source": [
    "target_proj_name = 'raw bimodal powder'\n",
    "\n",
    "target_project = api.project.get_info_by_name(workspace.id, target_proj_name)\n",
    "if target_project is None:\n",
    "    target_project = api.project.create(workspace.id, target_proj_name, change_name_if_conflict=True)\n",
    "    \n",
    "    particle_meta = ObjClass('particle', Bitmap, [177,36,25])\n",
    "    particle_h_meta = ObjClass('particle_wh', Bitmap, [74,144,226])\n",
    "    \n",
    "    meta = ProjectMeta.from_json(api.project.get_meta(target_project.id))\n",
    "    meta = meta.add_obj_class(particle_meta)\n",
    "    meta = meta.add_obj_class(particle_h_meta)\n",
    "    \n",
    "    api.project.update_meta(target_project.id, meta.to_json())\n",
    "    "
   ]
  },
  {
   "cell_type": "code",
   "execution_count": 8,
   "metadata": {},
   "outputs": [],
   "source": [
    "file_list = [\"2020-03-04 Marc PM2 C4_5um scan_recon.tiff\",\n",
    "             \"2020-03-04 Marc PM3 C4_5um scan_recon.tiff\",\n",
    "             \"2020-03-04 Marc PM4 C4_5um scan_recon.tiff\",\n",
    "             \"2020-03-11 Marc PM5 C1_5um scanA_recon.tiff\",\n",
    "             \"2020-03-11 Marc PM4 C1_5um scan_recon.tiff\"]\n",
    "\n",
    "folder_path = path.join('.','data','process_map')"
   ]
  },
  {
   "cell_type": "code",
   "execution_count": 9,
   "metadata": {},
   "outputs": [],
   "source": [
    "sampled_index = [[432,335,683],\n",
    "                 [511,535,506],\n",
    "                 [345,661,488],\n",
    "                 [325,679,596],\n",
    "                 [453,420,496]]\n",
    "\n",
    "im_size = 150"
   ]
  },
  {
   "cell_type": "code",
   "execution_count": 10,
   "metadata": {},
   "outputs": [],
   "source": [
    "sampled_list = []\n",
    "\n",
    "for filename, index in zip(file_list, sampled_index):\n",
    "    im = io.imread(path.join(folder_path, filename))\n",
    "    \n",
    "    sampled_im = im[index[2]:index[2] + im_size, \n",
    "                    index[0]:index[0] + im_size, \n",
    "                    index[1]]\n",
    "    \n",
    "    sampled_list.append(sampled_im)"
   ]
  },
  {
   "cell_type": "code",
   "execution_count": 11,
   "metadata": {},
   "outputs": [],
   "source": [
    "def find_name(name):\n",
    "    def func(x):\n",
    "        if(x.name == name):\n",
    "            return True\n",
    "        else:\n",
    "            return False\n",
    "    return func"
   ]
  },
  {
   "cell_type": "code",
   "execution_count": 12,
   "metadata": {},
   "outputs": [],
   "source": [
    "src_datasets = api.dataset.get_list(src_project.id)\n",
    "\n",
    "target_dataset = api.dataset.create(target_project.id, 'trial', change_name_if_conflict=True)\n",
    "list_image = api.image.get_list(src_datasets[0].id)\n",
    "for i, im in enumerate(sampled_list):\n",
    "    \n",
    "    filter_f = find_name('smooth_upscaled_{}.png'.format(i))\n",
    "    result_it = filter(filter_f,list_image)\n",
    "    result = [j for j in result_it]\n",
    "    remote_im = result[0]\n",
    "    \n",
    "    upsampled = transform.rescale(im, scale = 4, order = 0)\n",
    "    amp_contrast = exposure.equalize_hist(upsampled)\n",
    "    rescaled_uint8 = exposure.rescale_intensity(amp_contrast, out_range = np.uint8)\n",
    "    \n",
    "    rgb_im = color.gray2rgb(rescaled_uint8)\n",
    "    \n",
    "    im_info = api.image.upload_np(target_dataset.id, 'im_{}.png'.format(i), rgb_im)\n",
    "    \n",
    "    api.annotation.copy(remote_im.id, im_info.id)\n",
    "    "
   ]
  }
 ],
 "metadata": {
  "kernelspec": {
   "display_name": "Python 3",
   "language": "python",
   "name": "python3"
  },
  "language_info": {
   "codemirror_mode": {
    "name": "ipython",
    "version": 3
   },
   "file_extension": ".py",
   "mimetype": "text/x-python",
   "name": "python",
   "nbconvert_exporter": "python",
   "pygments_lexer": "ipython3",
   "version": "3.6.5"
  }
 },
 "nbformat": 4,
 "nbformat_minor": 4
}
