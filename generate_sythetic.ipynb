{
 "cells": [
  {
   "cell_type": "code",
   "execution_count": 1,
   "metadata": {},
   "outputs": [],
   "source": [
    "import porespy as ps\n",
    "import numpy as np\n",
    "import particle_generator as pg\n",
    "\n",
    "import supervisely_lib as sly\n",
    "import os\n",
    "import skimage as ski\n",
    "from skimage import color\n",
    "from skimage import exposure\n",
    "from skimage import transform\n",
    "\n",
    "from matplotlib import pyplot as plt\n",
    "\n",
    "from supervisely_lib.geometry.bitmap import Bitmap\n",
    "from supervisely_lib.annotation.annotation import Annotation\n",
    "from supervisely_lib.annotation.label import Label\n",
    "from supervisely_lib.annotation.obj_class import ObjClass\n",
    "from supervisely_lib.project.project_meta import ProjectMeta\n",
    "from supervisely_lib.geometry.point_location import PointLocation"
   ]
  },
  {
   "cell_type": "code",
   "execution_count": 2,
   "metadata": {},
   "outputs": [],
   "source": [
    "# Change this field to the name of your team, where target workspace exists.\n",
    "team_name = \"marcwang17\" # Automatically inserted\n",
    "\n",
    "# Change this field to the of your workspace, where target project exists.\n",
    "workspace_name = \"First Workspace\" # Automatically inserted\n",
    "\n",
    "# Change this field to the name of your target project.\n",
    "project_name = \"synthetic_data\" # Automatically inserted\n",
    "\n",
    "# If you are running this notebook on a Supervisely web instance, the connection\n",
    "# Edit those values if you run this notebook on your own PC\n",
    "# details below will be filled in from environment variables automatically.\n",
    "#\n",
    "# If you are running this notebook locally on your own machine, edit to fill in the\n",
    "# connection details manually. You can find your access token at\n",
    "# \"Your name on the top right\" -> \"Account settings\" -> \"API token\".\n",
    "address = os.environ['SERVER_ADDRESS']\n",
    "token = os.environ['API_TOKEN']"
   ]
  },
  {
   "cell_type": "code",
   "execution_count": 3,
   "metadata": {},
   "outputs": [],
   "source": [
    "# Initialize API object\n",
    "api = sly.Api(address, token)"
   ]
  },
  {
   "cell_type": "code",
   "execution_count": 4,
   "metadata": {},
   "outputs": [
    {
     "name": "stdout",
     "output_type": "stream",
     "text": [
      "Team: id=25454, name=marcwang17\n",
      "Workspace: id=28720, name=First Workspace\n"
     ]
    }
   ],
   "source": [
    "team = api.team.get_info_by_name(team_name)\n",
    "if team is None:\n",
    "    raise RuntimeError(\"Team {!r} not found\".format(team_name))\n",
    "\n",
    "workspace = api.workspace.get_info_by_name(team.id, workspace_name)\n",
    "if workspace is None:\n",
    "    raise RuntimeError(\"Workspace {!r} not found\".format(workspace_name))\n",
    "    \n",
    "print(\"Team: id={}, name={}\".format(team.id, team.name))\n",
    "print(\"Workspace: id={}, name={}\".format(workspace.id, workspace.name))"
   ]
  },
  {
   "cell_type": "code",
   "execution_count": 5,
   "metadata": {},
   "outputs": [],
   "source": [
    "synt_project = api.project.get_info_by_name(workspace.id, project_name)\n",
    "\n",
    "if synt_project is None:\n",
    "    synt_project = api.project.create(workspace.id, project_name, change_name_if_conflict=True)\n",
    "    \n",
    "    particle_meta = ObjClass('particle', Bitmap, [255,0,0]) \n",
    "    \n",
    "    meta = ProjectMeta.from_json(api.project.get_meta(synt_project.id))\n",
    "    meta = meta.add_obj_class(particle_meta)\n",
    "    api.project.update_meta(synt_project.id, meta.to_json())\n",
    "else:\n",
    "    meta = ProjectMeta.from_json(api.project.get_meta(synt_project.id))\n",
    "    particle_meta = meta.get_obj_class('particle')"
   ]
  },
  {
   "cell_type": "code",
   "execution_count": 6,
   "metadata": {},
   "outputs": [],
   "source": [
    "class cb_annotation:\n",
    "    def __init__(self, ann, obj_class):\n",
    "        self.labels = ann\n",
    "        self.ann_type = obj_class\n",
    "    \n",
    "    def __call__(self, strel, r, x, y):\n",
    "        elem = strel.copy()\n",
    "        x_min = x-r\n",
    "        y_min = y-r\n",
    "        origin = PointLocation(x_min, y_min)\n",
    "        mask = Bitmap(elem, origin)\n",
    "        \n",
    "        label_obj = Label(mask, self.ann_type)\n",
    "        \n",
    "        self.labels = self.labels.add_label(label_obj)"
   ]
  },
  {
   "cell_type": "code",
   "execution_count": null,
   "metadata": {},
   "outputs": [],
   "source": [
    "def remap_phase(im, void_mean, void_std, solid_mean, solid_std):\n",
    "    n_im = np.zeros_like(im, dtype = np.uint8)\n",
    "    "
   ]
  },
  {
   "cell_type": "code",
   "execution_count": null,
   "metadata": {},
   "outputs": [],
   "source": [
    "test_im = np.zeros((600,600), dtype=bool)\n",
    "ann = Annotation(test_im.shape)\n",
    "cb_func = cb_annotation(ann, particle_meta)    \n",
    "sphere_pack = pg.RSA(np.zeros((600,600), dtype=int), 20, 0.5, callback = cb_func)\n",
    "rescaled_im = exposure.rescale_intensity(sphere_pack, in_range='image', out_range=np.uint8)\n",
    "\n",
    "ann = cb_func.labels\n",
    "ann_r = ann.scale(1/6)\n",
    "\n",
    "ds_im = transform.downscale_local_mean(rescaled_im, (6,6))\n",
    "\n",
    "rgb_im = color.gray2rgb(ds_im)\n",
    "\n",
    "dataset = api.dataset.create(synt_project.id, 'synt_test', change_name_if_conflict=True)\n",
    "test = api.image.upload_np(dataset.id, 'IM1.png', rgb_im)\n",
    "\n",
    "api.annotation.upload_ann(test.id, ann_r)"
   ]
  },
  {
   "cell_type": "code",
   "execution_count": 8,
   "metadata": {},
   "outputs": [],
   "source": []
  },
  {
   "cell_type": "code",
   "execution_count": 9,
   "metadata": {},
   "outputs": [],
   "source": []
  },
  {
   "cell_type": "code",
   "execution_count": 10,
   "metadata": {},
   "outputs": [],
   "source": []
  },
  {
   "cell_type": "code",
   "execution_count": 11,
   "metadata": {},
   "outputs": [],
   "source": []
  },
  {
   "cell_type": "code",
   "execution_count": null,
   "metadata": {},
   "outputs": [],
   "source": []
  }
 ],
 "metadata": {
  "kernelspec": {
   "display_name": "Python 3",
   "language": "python",
   "name": "python3"
  },
  "language_info": {
   "codemirror_mode": {
    "name": "ipython",
    "version": 3
   },
   "file_extension": ".py",
   "mimetype": "text/x-python",
   "name": "python",
   "nbconvert_exporter": "python",
   "pygments_lexer": "ipython3",
   "version": "3.6.5"
  }
 },
 "nbformat": 4,
 "nbformat_minor": 4
}
